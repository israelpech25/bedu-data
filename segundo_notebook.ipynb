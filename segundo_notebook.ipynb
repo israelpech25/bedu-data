{
 "cells": [
  {
   "cell_type": "code",
   "execution_count": 4,
   "id": "private-cruise",
   "metadata": {},
   "outputs": [],
   "source": [
    "precios_en_menu = [2025, 2350, 950, 1000, 450, 2250, 2075, 1925, 1025, 475, 125, 325, 325, 550, 1425, 1950, 175, 800, 1275, 1750, 2175, 1175, 2300, 650, 1275]"
   ]
  },
  {
   "cell_type": "code",
   "execution_count": null,
   "id": "alternative-defeat",
   "metadata": {},
   "outputs": [],
   "source": [
    "#Recorrer la lista y agregar el 16% de IVA e imprimirlo "
   ]
  }
 ],
 "metadata": {
  "kernelspec": {
   "display_name": "Python 3",
   "language": "python",
   "name": "python3"
  },
  "language_info": {
   "codemirror_mode": {
    "name": "ipython",
    "version": 3
   },
   "file_extension": ".py",
   "mimetype": "text/x-python",
   "name": "python",
   "nbconvert_exporter": "python",
   "pygments_lexer": "ipython3",
   "version": "3.9.0"
  }
 },
 "nbformat": 4,
 "nbformat_minor": 5
}
